{
 "cells": [
  {
   "cell_type": "markdown",
   "id": "73df19fb",
   "metadata": {},
   "source": [
    "# 4: UV-complete models"
   ]
  },
  {
   "cell_type": "code",
   "execution_count": 2,
   "id": "87fe908c",
   "metadata": {},
   "outputs": [],
   "source": [
    "from alpaca import uvmodels\n",
    "import sympy as sp\n",
    "import numpy as np"
   ]
  },
  {
   "cell_type": "markdown",
   "id": "a63ea569",
   "metadata": {},
   "source": [
    "## 4.1 Perdefined classes of models"
   ]
  },
  {
   "cell_type": "markdown",
   "id": "e105bdab",
   "metadata": {},
   "source": [
    "### Models with SM fermions charged under PQ symmetry\n",
    "Here we define a non-universal DFSZ-like model, and obtain the corresponding `ALPcouplings` object"
   ]
  },
  {
   "cell_type": "code",
   "execution_count": null,
   "id": "de33187d",
   "metadata": {},
   "outputs": [
    {
     "name": "stdout",
     "output_type": "stream",
     "text": [
      "\\begin{align}\n",
      "c_{u_R} &= \\left(\\begin{matrix}- 2 \\mathcal{X}_\\Phi & 0 & 0\\\\0 & - 6 \\mathcal{X}_\\Phi & 0\\\\0 & 0 & - 12 \\mathcal{X}_\\Phi\\end{matrix}\\right) \\nonumber \\\\\n",
      "c_{d_R} &= \\left(\\begin{matrix}0 & 0 & 0\\\\0 & 4 \\mathcal{X}_\\Phi & 0\\\\0 & 0 & 14 \\mathcal{X}_\\Phi\\end{matrix}\\right) \\nonumber \\\\\n",
      "c_{e_R} &= \\left(\\begin{matrix}- 14 \\mathcal{X}_\\Phi & 0 & 0\\\\0 & - 42 \\mathcal{X}_\\Phi & 0\\\\0 & 0 & - 98 \\mathcal{X}_\\Phi\\end{matrix}\\right) \\nonumber \\\\\n",
      "c_G &= \\mathcal{X}_\\Phi \\nonumber \\\\\n",
      "c_B &= \\frac{524 \\mathcal{X}_\\Phi}{3} \\nonumber \n",
      "\\end{align}\n"
     ]
    }
   ],
   "source": [
    "X = sp.Symbol(r'\\mathcal{X}_\\Phi')\n",
    "maximal_model = uvmodels.PQChargedModel(\"DFSZ-IV with maximal E/N\", {\n",
    "    'uR': [2*X, 6*X, 12*X],\n",
    "    'dR': [0, -4*X, -14*X],\n",
    "    'eR': [14*X, 42*X, 98*X]\n",
    "})\n",
    "print(maximal_model.couplings_latex())"
   ]
  },
  {
   "cell_type": "code",
   "execution_count": 5,
   "id": "b8e8a266",
   "metadata": {},
   "outputs": [
    {
     "data": {
      "text/markdown": [
       "### ALP couplings\n",
       "- Scale: $10^{3}$ GeV\n",
       "- Basis: ```derivative_above```\n",
       "- EW scale: $10^{2}$ GeV\n",
       "<details><summary>Couplings:</summary>\n",
       "\n",
       "- $c_G = 1.00$\n",
       "- $c_B = 1.75\\times10^{2}$\n",
       "- $c_W = 0.00$\n",
       "- $c_{q_L} = \\begin{pmatrix}0.00 & 0.00 & 0.00 \\\\0.00 & 0.00 & 0.00 \\\\0.00 & 0.00 & 0.00 \\end{pmatrix}$\n",
       "- $c_{u_R} = \\begin{pmatrix}-2.00 & 0.00 & 0.00 \\\\0.00 & -6.00 & 0.00 \\\\0.00 & 0.00 & -1.20\\times10 \\end{pmatrix}$\n",
       "- $c_{d_R} = \\begin{pmatrix}0.00 & 0.00 & 0.00 \\\\0.00 & 4.00 & 0.00 \\\\0.00 & 0.00 & 1.40\\times10 \\end{pmatrix}$\n",
       "- $c_{\\ell_L} = \\begin{pmatrix}0.00 & 0.00 & 0.00 \\\\0.00 & 0.00 & 0.00 \\\\0.00 & 0.00 & 0.00 \\end{pmatrix}$\n",
       "- $c_{e_R} = \\begin{pmatrix}-1.40\\times10 & 0.00 & 0.00 \\\\0.00 & -4.20\\times10 & 0.00 \\\\0.00 & 0.00 & -9.80\\times10 \\end{pmatrix}$\n",
       "</details>\n",
       "<details><summary>Yukawa matrices:</summary>\n",
       "\n",
       "- $Y_u = \\begin{pmatrix}6.37\\times10^{-6} & 0.00 & 0.00 \\\\0.00 & 3.18\\times10^{-3} & 0.00 \\\\0.00 & 0.00 & 8.64\\times10^{-1} \\end{pmatrix}$\n",
       "- $Y_d = \\begin{pmatrix}1.32\\times10^{-5} & 6.21\\times10^{-5} & 1.53\\times10^{-5} - 4.95\\times10^{-5}\\,i \\\\-3.04\\times10^{-6} - 2.00\\times10^{-9}\\,i & 2.69\\times10^{-4} - 9.41\\times10^{-9}\\,i & 6.04\\times10^{-4} \\\\1.16\\times10^{-7} - 4.65\\times10^{-8}\\,i & -1.17\\times10^{-5} - 2.19\\times10^{-7}\\,i & 1.40\\times10^{-2} \\end{pmatrix}$\n",
       "- $Y_e = \\begin{pmatrix}2.98\\times10^{-6} & 0.00 & 0.00 \\\\0.00 & 6.17\\times10^{-4} & 0.00 \\\\0.00 & 0.00 & 1.04\\times10^{-2} \\end{pmatrix}$\n",
       "</details>\n"
      ],
      "text/plain": [
       "<alpaca.rge.classes.ALPcouplings at 0x78d16e36fb60>"
      ]
     },
     "execution_count": 5,
     "metadata": {},
     "output_type": "execute_result"
    }
   ],
   "source": [
    "couplings_maximal = maximal_model.get_couplings({X: 1.0}, scale=1000.0)\n",
    "couplings_maximal"
   ]
  },
  {
   "cell_type": "markdown",
   "id": "d40c8106",
   "metadata": {},
   "source": [
    "### Flaxion models"
   ]
  },
  {
   "cell_type": "code",
   "execution_count": 6,
   "id": "fa2286bd",
   "metadata": {},
   "outputs": [],
   "source": [
    "my_flaxion = uvmodels.Flaxion(\"Flaxion\", {\n",
    "    'qL': [4, 3, 0],\n",
    "    'uR': [-4, -1, 0],\n",
    "    'dR': [-4, -3, -3],\n",
    "    'lL': [1, 0, 0],\n",
    "    'eR': [-5, -3, -2]\n",
    "})"
   ]
  },
  {
   "cell_type": "code",
   "execution_count": 7,
   "id": "0f5e97e3",
   "metadata": {},
   "outputs": [
    {
     "data": {
      "text/markdown": [
       "### ALP couplings\n",
       "- Scale: $10^{3}$ GeV\n",
       "- Basis: ```derivative_above```\n",
       "- EW scale: $10^{2}$ GeV\n",
       "<details><summary>Couplings:</summary>\n",
       "\n",
       "- $c_G = -1.45\\times10$\n",
       "- $c_B = -2.17\\times10$\n",
       "- $c_W = -1.10\\times10$\n",
       "- $c_{q_L} = \\begin{pmatrix}-4.00 & 0.00 & 0.00 \\\\0.00 & -3.00 & 0.00 \\\\0.00 & 0.00 & 0.00 \\end{pmatrix}$\n",
       "- $c_{u_R} = \\begin{pmatrix}4.00 & 0.00 & 0.00 \\\\0.00 & 1.00 & 0.00 \\\\0.00 & 0.00 & 0.00 \\end{pmatrix}$\n",
       "- $c_{d_R} = \\begin{pmatrix}4.00 & 0.00 & 0.00 \\\\0.00 & 3.00 & 0.00 \\\\0.00 & 0.00 & 3.00 \\end{pmatrix}$\n",
       "- $c_{\\ell_L} = \\begin{pmatrix}-1.00 & 0.00 & 0.00 \\\\0.00 & 0.00 & 0.00 \\\\0.00 & 0.00 & 0.00 \\end{pmatrix}$\n",
       "- $c_{e_R} = \\begin{pmatrix}5.00 & 0.00 & 0.00 \\\\0.00 & 3.00 & 0.00 \\\\0.00 & 0.00 & 2.00 \\end{pmatrix}$\n",
       "</details>\n",
       "<details><summary>Yukawa matrices:</summary>\n",
       "\n",
       "- $Y_u = \\begin{pmatrix}-2.34\\times10^{-5} + 7.55\\times10^{-6}\\,i & -7.98\\times10^{-4} + 8.41\\times10^{-4}\\,i & 6.39\\times10^{-3} - 3.17\\times10^{-3}\\,i \\\\-8.00\\times10^{-5} - 1.02\\times10^{-4}\\,i & 2.06\\times10^{-3} - 4.19\\times10^{-3}\\,i & -1.31\\times10^{-2} + 4.88\\times10^{-3}\\,i \\\\6.62\\times10^{-4} + 4.60\\times10^{-3}\\,i & -4.42\\times10^{-1} - 1.58\\times10^{-1}\\,i & 2.48 + 1.05\\,i \\end{pmatrix}$\n",
       "- $Y_d = \\begin{pmatrix}-2.27\\times10^{-5} + 7.20\\times10^{-6}\\,i & 1.02\\times10^{-4} - 2.94\\times10^{-5}\\,i & 4.28\\times10^{-5} - 3.46\\times10^{-5}\\,i \\\\-8.82\\times10^{-6} + 4.85\\times10^{-5}\\,i & -3.31\\times10^{-5} + 1.82\\times10^{-4}\\,i & -5.74\\times10^{-4} + 3.06\\times10^{-4}\\,i \\\\4.38\\times10^{-3} + 1.12\\times10^{-4}\\,i & -8.77\\times10^{-3} + 2.26\\times10^{-2}\\,i & 1.50\\times10^{-2} - 4.69\\times10^{-3}\\,i \\end{pmatrix}$\n",
       "- $Y_e = \\begin{pmatrix}-1.12\\times10^{-3} - 1.01\\times10^{-3}\\,i & 8.81\\times10^{-3} - 2.56\\times10^{-3}\\,i & -2.29\\times10^{-2} + 1.43\\times10^{-2}\\,i \\\\3.54\\times10^{-3} - 1.41\\times10^{-3}\\,i & 6.49\\times10^{-2} - 3.22\\times10^{-2}\\,i & -3.40\\times10^{-2} - 1.55\\times10^{-1}\\,i \\\\1.48\\times10^{-3} + 1.82\\times10^{-4}\\,i & 8.56\\times10^{-3} - 2.79\\times10^{-2}\\,i & 1.13\\times10^{-1} - 8.12\\times10^{-2}\\,i \\end{pmatrix}$\n",
       "</details>\n"
      ],
      "text/plain": [
       "<alpaca.rge.classes.ALPcouplings at 0x78d1a9df0410>"
      ]
     },
     "execution_count": 7,
     "metadata": {},
     "output_type": "execute_result"
    }
   ],
   "source": [
    "couplings_myflaxion = my_flaxion.get_couplings(eps=0.2, scale=1000.0)\n",
    "couplings_myflaxion"
   ]
  },
  {
   "cell_type": "code",
   "execution_count": 8,
   "id": "444ae9c4",
   "metadata": {},
   "outputs": [
    {
     "name": "stdout",
     "output_type": "stream",
     "text": [
      "{'cG': 0, 'cB': -\\mathcal{X}*\\mathcal{Y}**2, 'cW': 0}\n"
     ]
    }
   ],
   "source": [
    "X = sp.Symbol(r\"\\mathcal{X}\")\n",
    "Y = sp.Symbol(r\"\\mathcal{Y}\")\n",
    "E = uvmodels.HeavyFermion(1, 1, Y, X)\n",
    "b_ksvz = uvmodels.KSVZ_model(\"B-KSVZ\", [E])\n",
    "\n",
    "print(b_ksvz.couplings)"
   ]
  },
  {
   "cell_type": "markdown",
   "id": "8c9c9ab5",
   "metadata": {},
   "source": [
    "### KSVZ-like models"
   ]
  },
  {
   "cell_type": "code",
   "execution_count": 9,
   "id": "10f29899",
   "metadata": {},
   "outputs": [
    {
     "data": {
      "text/markdown": [
       "### ALP couplings\n",
       "- Scale: $10^{3}$ GeV\n",
       "- Basis: ```derivative_above```\n",
       "- EW scale: $10^{2}$ GeV\n",
       "<details><summary>Couplings:</summary>\n",
       "\n",
       "- $c_G = 0.00$\n",
       "- $c_B = -1.00$\n",
       "- $c_W = 0.00$\n",
       "- $c_{q_L} = \\begin{pmatrix}0.00 & 0.00 & 0.00 \\\\0.00 & 0.00 & 0.00 \\\\0.00 & 0.00 & 0.00 \\end{pmatrix}$\n",
       "- $c_{u_R} = \\begin{pmatrix}0.00 & 0.00 & 0.00 \\\\0.00 & 0.00 & 0.00 \\\\0.00 & 0.00 & 0.00 \\end{pmatrix}$\n",
       "- $c_{d_R} = \\begin{pmatrix}0.00 & 0.00 & 0.00 \\\\0.00 & 0.00 & 0.00 \\\\0.00 & 0.00 & 0.00 \\end{pmatrix}$\n",
       "- $c_{\\ell_L} = \\begin{pmatrix}0.00 & 0.00 & 0.00 \\\\0.00 & 0.00 & 0.00 \\\\0.00 & 0.00 & 0.00 \\end{pmatrix}$\n",
       "- $c_{e_R} = \\begin{pmatrix}0.00 & 0.00 & 0.00 \\\\0.00 & 0.00 & 0.00 \\\\0.00 & 0.00 & 0.00 \\end{pmatrix}$\n",
       "</details>\n",
       "<details><summary>Yukawa matrices:</summary>\n",
       "\n",
       "- $Y_u = \\begin{pmatrix}6.37\\times10^{-6} & 0.00 & 0.00 \\\\0.00 & 3.18\\times10^{-3} & 0.00 \\\\0.00 & 0.00 & 8.64\\times10^{-1} \\end{pmatrix}$\n",
       "- $Y_d = \\begin{pmatrix}1.32\\times10^{-5} & 6.21\\times10^{-5} & 1.53\\times10^{-5} - 4.95\\times10^{-5}\\,i \\\\-3.04\\times10^{-6} - 2.00\\times10^{-9}\\,i & 2.69\\times10^{-4} - 9.41\\times10^{-9}\\,i & 6.04\\times10^{-4} \\\\1.16\\times10^{-7} - 4.65\\times10^{-8}\\,i & -1.17\\times10^{-5} - 2.19\\times10^{-7}\\,i & 1.40\\times10^{-2} \\end{pmatrix}$\n",
       "- $Y_e = \\begin{pmatrix}2.98\\times10^{-6} & 0.00 & 0.00 \\\\0.00 & 6.17\\times10^{-4} & 0.00 \\\\0.00 & 0.00 & 1.04\\times10^{-2} \\end{pmatrix}$\n",
       "</details>\n"
      ],
      "text/plain": [
       "<alpaca.rge.classes.ALPcouplings at 0x78d1703207d0>"
      ]
     },
     "execution_count": 9,
     "metadata": {},
     "output_type": "execute_result"
    }
   ],
   "source": [
    "couplings_b_ksvz = b_ksvz.get_couplings({X: 1, Y: 1}, scale=1000.0)\n",
    "couplings_b_ksvz"
   ]
  },
  {
   "cell_type": "markdown",
   "id": "cd7b23c2",
   "metadata": {},
   "source": [
    "### Benchmark models"
   ]
  },
  {
   "cell_type": "code",
   "execution_count": 10,
   "id": "8c36f97e",
   "metadata": {},
   "outputs": [
    {
     "data": {
      "text/plain": [
       "{'cqL': 0,\n",
       " 'cuR': 2*sin(beta)**2,\n",
       " 'cdR': -2*sin(beta)**2,\n",
       " 'clL': 0,\n",
       " 'ceR': 2*cos(beta)**2,\n",
       " 'cG': 0,\n",
       " 'cW': 0,\n",
       " 'cB': -6}"
      ]
     },
     "execution_count": 10,
     "metadata": {},
     "output_type": "execute_result"
    }
   ],
   "source": [
    "uvmodels.QED_DFSZ.couplings"
   ]
  },
  {
   "cell_type": "code",
   "execution_count": 13,
   "id": "6a6b5214",
   "metadata": {},
   "outputs": [
    {
     "data": {
      "text/markdown": [
       "### ALP couplings\n",
       "- Scale: $10^{3}$ GeV\n",
       "- Basis: ```derivative_above```\n",
       "- EW scale: $10^{2}$ GeV\n",
       "<details><summary>Couplings:</summary>\n",
       "\n",
       "- $c_G = 0.00$\n",
       "- $c_B = -6.00$\n",
       "- $c_W = 0.00$\n",
       "- $c_{q_L} = \\begin{pmatrix}0.00 & 0.00 & 0.00 \\\\0.00 & 0.00 & 0.00 \\\\0.00 & 0.00 & 0.00 \\end{pmatrix}$\n",
       "- $c_{u_R} = \\begin{pmatrix}1.00 & 0.00 & 0.00 \\\\0.00 & 1.00 & 0.00 \\\\0.00 & 0.00 & 1.00 \\end{pmatrix}$\n",
       "- $c_{d_R} = \\begin{pmatrix}-1.00 & -0.00 & -0.00 \\\\-0.00 & -1.00 & -0.00 \\\\-0.00 & -0.00 & -1.00 \\end{pmatrix}$\n",
       "- $c_{\\ell_L} = \\begin{pmatrix}0.00 & 0.00 & 0.00 \\\\0.00 & 0.00 & 0.00 \\\\0.00 & 0.00 & 0.00 \\end{pmatrix}$\n",
       "- $c_{e_R} = \\begin{pmatrix}1.00 & 0.00 & 0.00 \\\\0.00 & 1.00 & 0.00 \\\\0.00 & 0.00 & 1.00 \\end{pmatrix}$\n",
       "</details>\n",
       "<details><summary>Yukawa matrices:</summary>\n",
       "\n",
       "- $Y_u = \\begin{pmatrix}6.37\\times10^{-6} & 0.00 & 0.00 \\\\0.00 & 3.18\\times10^{-3} & 0.00 \\\\0.00 & 0.00 & 8.64\\times10^{-1} \\end{pmatrix}$\n",
       "- $Y_d = \\begin{pmatrix}1.32\\times10^{-5} & 6.21\\times10^{-5} & 1.53\\times10^{-5} - 4.95\\times10^{-5}\\,i \\\\-3.04\\times10^{-6} - 2.00\\times10^{-9}\\,i & 2.69\\times10^{-4} - 9.41\\times10^{-9}\\,i & 6.04\\times10^{-4} \\\\1.16\\times10^{-7} - 4.65\\times10^{-8}\\,i & -1.17\\times10^{-5} - 2.19\\times10^{-7}\\,i & 1.40\\times10^{-2} \\end{pmatrix}$\n",
       "- $Y_e = \\begin{pmatrix}2.98\\times10^{-6} & 0.00 & 0.00 \\\\0.00 & 6.17\\times10^{-4} & 0.00 \\\\0.00 & 0.00 & 1.04\\times10^{-2} \\end{pmatrix}$\n",
       "</details>\n"
      ],
      "text/plain": [
       "<alpaca.rge.classes.ALPcouplings at 0x78d16e4c3490>"
      ]
     },
     "execution_count": 13,
     "metadata": {},
     "output_type": "execute_result"
    }
   ],
   "source": [
    "uvmodels.QED_DFSZ.get_couplings({uvmodels.beta: np.atan(1.0)}, scale=1000.0)"
   ]
  },
  {
   "cell_type": "code",
   "execution_count": 14,
   "id": "ab714712",
   "metadata": {},
   "outputs": [
    {
     "data": {
      "text/plain": [
       "{'cqL': 0, 'cuR': 0, 'cdR': 2, 'clL': 0, 'ceR': -1, 'cG': -3, 'cW': 0, 'cB': 1}"
      ]
     },
     "execution_count": 14,
     "metadata": {},
     "output_type": "execute_result"
    }
   ],
   "source": [
    "uvmodels.u_DFSZ.couplings"
   ]
  },
  {
   "cell_type": "code",
   "execution_count": 17,
   "id": "ca76857b",
   "metadata": {},
   "outputs": [
    {
     "data": {
      "text/markdown": [
       "### ALP couplings\n",
       "- Scale: $10^{3}$ GeV\n",
       "- Basis: ```derivative_above```\n",
       "- EW scale: $10^{2}$ GeV\n",
       "<details><summary>Couplings:</summary>\n",
       "\n",
       "- $c_G = -3.00$\n",
       "- $c_B = 1.00$\n",
       "- $c_W = 0.00$\n",
       "- $c_{q_L} = \\begin{pmatrix}0.00 & 0.00 & 0.00 \\\\0.00 & 0.00 & 0.00 \\\\0.00 & 0.00 & 0.00 \\end{pmatrix}$\n",
       "- $c_{u_R} = \\begin{pmatrix}0.00 & 0.00 & 0.00 \\\\0.00 & 0.00 & 0.00 \\\\0.00 & 0.00 & 0.00 \\end{pmatrix}$\n",
       "- $c_{d_R} = \\begin{pmatrix}2.00 & 0.00 & 0.00 \\\\0.00 & 2.00 & 0.00 \\\\0.00 & 0.00 & 2.00 \\end{pmatrix}$\n",
       "- $c_{\\ell_L} = \\begin{pmatrix}0.00 & 0.00 & 0.00 \\\\0.00 & 0.00 & 0.00 \\\\0.00 & 0.00 & 0.00 \\end{pmatrix}$\n",
       "- $c_{e_R} = \\begin{pmatrix}-1.00 & -0.00 & -0.00 \\\\-0.00 & -1.00 & -0.00 \\\\-0.00 & -0.00 & -1.00 \\end{pmatrix}$\n",
       "</details>\n",
       "<details><summary>Yukawa matrices:</summary>\n",
       "\n",
       "- $Y_u = \\begin{pmatrix}6.37\\times10^{-6} & 0.00 & 0.00 \\\\0.00 & 3.18\\times10^{-3} & 0.00 \\\\0.00 & 0.00 & 8.64\\times10^{-1} \\end{pmatrix}$\n",
       "- $Y_d = \\begin{pmatrix}1.32\\times10^{-5} & 6.21\\times10^{-5} & 1.53\\times10^{-5} - 4.95\\times10^{-5}\\,i \\\\-3.04\\times10^{-6} - 2.00\\times10^{-9}\\,i & 2.69\\times10^{-4} - 9.41\\times10^{-9}\\,i & 6.04\\times10^{-4} \\\\1.16\\times10^{-7} - 4.65\\times10^{-8}\\,i & -1.17\\times10^{-5} - 2.19\\times10^{-7}\\,i & 1.40\\times10^{-2} \\end{pmatrix}$\n",
       "- $Y_e = \\begin{pmatrix}2.98\\times10^{-6} & 0.00 & 0.00 \\\\0.00 & 6.17\\times10^{-4} & 0.00 \\\\0.00 & 0.00 & 1.04\\times10^{-2} \\end{pmatrix}$\n",
       "</details>\n"
      ],
      "text/plain": [
       "<alpaca.rge.classes.ALPcouplings at 0x78d16e4c3bb0>"
      ]
     },
     "execution_count": 17,
     "metadata": {},
     "output_type": "execute_result"
    }
   ],
   "source": [
    "uvmodels.u_DFSZ.get_couplings({}, scale=1000.0)"
   ]
  },
  {
   "cell_type": "code",
   "execution_count": 18,
   "id": "9b90e3d8",
   "metadata": {},
   "outputs": [
    {
     "data": {
      "text/plain": [
       "{'cqL': 0, 'cuR': -1, 'cdR': -1, 'clL': 0, 'ceR': 0, 'cG': 3, 'cW': 0, 'cB': 5}"
      ]
     },
     "execution_count": 18,
     "metadata": {},
     "output_type": "execute_result"
    }
   ],
   "source": [
    "uvmodels.e_DFSZ.couplings"
   ]
  },
  {
   "cell_type": "code",
   "execution_count": 19,
   "id": "33fe50cc",
   "metadata": {},
   "outputs": [
    {
     "data": {
      "text/markdown": [
       "### ALP couplings\n",
       "- Scale: $10^{3}$ GeV\n",
       "- Basis: ```derivative_above```\n",
       "- EW scale: $10^{2}$ GeV\n",
       "<details><summary>Couplings:</summary>\n",
       "\n",
       "- $c_G = 3.00$\n",
       "- $c_B = 5.00$\n",
       "- $c_W = 0.00$\n",
       "- $c_{q_L} = \\begin{pmatrix}0.00 & 0.00 & 0.00 \\\\0.00 & 0.00 & 0.00 \\\\0.00 & 0.00 & 0.00 \\end{pmatrix}$\n",
       "- $c_{u_R} = \\begin{pmatrix}-1.00 & -0.00 & -0.00 \\\\-0.00 & -1.00 & -0.00 \\\\-0.00 & -0.00 & -1.00 \\end{pmatrix}$\n",
       "- $c_{d_R} = \\begin{pmatrix}-1.00 & -0.00 & -0.00 \\\\-0.00 & -1.00 & -0.00 \\\\-0.00 & -0.00 & -1.00 \\end{pmatrix}$\n",
       "- $c_{\\ell_L} = \\begin{pmatrix}0.00 & 0.00 & 0.00 \\\\0.00 & 0.00 & 0.00 \\\\0.00 & 0.00 & 0.00 \\end{pmatrix}$\n",
       "- $c_{e_R} = \\begin{pmatrix}0.00 & 0.00 & 0.00 \\\\0.00 & 0.00 & 0.00 \\\\0.00 & 0.00 & 0.00 \\end{pmatrix}$\n",
       "</details>\n",
       "<details><summary>Yukawa matrices:</summary>\n",
       "\n",
       "- $Y_u = \\begin{pmatrix}6.37\\times10^{-6} & 0.00 & 0.00 \\\\0.00 & 3.18\\times10^{-3} & 0.00 \\\\0.00 & 0.00 & 8.64\\times10^{-1} \\end{pmatrix}$\n",
       "- $Y_d = \\begin{pmatrix}1.32\\times10^{-5} & 6.21\\times10^{-5} & 1.53\\times10^{-5} - 4.95\\times10^{-5}\\,i \\\\-3.04\\times10^{-6} - 2.00\\times10^{-9}\\,i & 2.69\\times10^{-4} - 9.41\\times10^{-9}\\,i & 6.04\\times10^{-4} \\\\1.16\\times10^{-7} - 4.65\\times10^{-8}\\,i & -1.17\\times10^{-5} - 2.19\\times10^{-7}\\,i & 1.40\\times10^{-2} \\end{pmatrix}$\n",
       "- $Y_e = \\begin{pmatrix}2.98\\times10^{-6} & 0.00 & 0.00 \\\\0.00 & 6.17\\times10^{-4} & 0.00 \\\\0.00 & 0.00 & 1.04\\times10^{-2} \\end{pmatrix}$\n",
       "</details>\n"
      ],
      "text/plain": [
       "<alpaca.rge.classes.ALPcouplings at 0x78d17022e0f0>"
      ]
     },
     "execution_count": 19,
     "metadata": {},
     "output_type": "execute_result"
    }
   ],
   "source": [
    "uvmodels.e_DFSZ.get_couplings({}, scale=1000.0)"
   ]
  },
  {
   "cell_type": "code",
   "execution_count": 20,
   "id": "3ea88766",
   "metadata": {},
   "outputs": [
    {
     "data": {
      "text/plain": [
       "{'cG': -\\mathcal{X}/2, 'cB': 0, 'cW': 0}"
      ]
     },
     "execution_count": 20,
     "metadata": {},
     "output_type": "execute_result"
    }
   ],
   "source": [
    "uvmodels.Q_KSVZ.couplings"
   ]
  },
  {
   "cell_type": "code",
   "execution_count": 21,
   "id": "083bcc6f",
   "metadata": {},
   "outputs": [
    {
     "data": {
      "text/markdown": [
       "### ALP couplings\n",
       "- Scale: $10^{3}$ GeV\n",
       "- Basis: ```derivative_above```\n",
       "- EW scale: $10^{2}$ GeV\n",
       "<details><summary>Couplings:</summary>\n",
       "\n",
       "- $c_G = -5.00\\times10^{-1}$\n",
       "- $c_B = 0.00$\n",
       "- $c_W = 0.00$\n",
       "- $c_{q_L} = \\begin{pmatrix}0.00 & 0.00 & 0.00 \\\\0.00 & 0.00 & 0.00 \\\\0.00 & 0.00 & 0.00 \\end{pmatrix}$\n",
       "- $c_{u_R} = \\begin{pmatrix}0.00 & 0.00 & 0.00 \\\\0.00 & 0.00 & 0.00 \\\\0.00 & 0.00 & 0.00 \\end{pmatrix}$\n",
       "- $c_{d_R} = \\begin{pmatrix}0.00 & 0.00 & 0.00 \\\\0.00 & 0.00 & 0.00 \\\\0.00 & 0.00 & 0.00 \\end{pmatrix}$\n",
       "- $c_{\\ell_L} = \\begin{pmatrix}0.00 & 0.00 & 0.00 \\\\0.00 & 0.00 & 0.00 \\\\0.00 & 0.00 & 0.00 \\end{pmatrix}$\n",
       "- $c_{e_R} = \\begin{pmatrix}0.00 & 0.00 & 0.00 \\\\0.00 & 0.00 & 0.00 \\\\0.00 & 0.00 & 0.00 \\end{pmatrix}$\n",
       "</details>\n",
       "<details><summary>Yukawa matrices:</summary>\n",
       "\n",
       "- $Y_u = \\begin{pmatrix}6.37\\times10^{-6} & 0.00 & 0.00 \\\\0.00 & 3.18\\times10^{-3} & 0.00 \\\\0.00 & 0.00 & 8.64\\times10^{-1} \\end{pmatrix}$\n",
       "- $Y_d = \\begin{pmatrix}1.32\\times10^{-5} & 6.21\\times10^{-5} & 1.53\\times10^{-5} - 4.95\\times10^{-5}\\,i \\\\-3.04\\times10^{-6} - 2.00\\times10^{-9}\\,i & 2.69\\times10^{-4} - 9.41\\times10^{-9}\\,i & 6.04\\times10^{-4} \\\\1.16\\times10^{-7} - 4.65\\times10^{-8}\\,i & -1.17\\times10^{-5} - 2.19\\times10^{-7}\\,i & 1.40\\times10^{-2} \\end{pmatrix}$\n",
       "- $Y_e = \\begin{pmatrix}2.98\\times10^{-6} & 0.00 & 0.00 \\\\0.00 & 6.17\\times10^{-4} & 0.00 \\\\0.00 & 0.00 & 1.04\\times10^{-2} \\end{pmatrix}$\n",
       "</details>\n"
      ],
      "text/plain": [
       "<alpaca.rge.classes.ALPcouplings at 0x78d16e566be0>"
      ]
     },
     "execution_count": 21,
     "metadata": {},
     "output_type": "execute_result"
    }
   ],
   "source": [
    "uvmodels.Q_KSVZ.get_couplings({uvmodels.KSVZ_charge: 1.0}, scale=1000.0)"
   ]
  },
  {
   "cell_type": "code",
   "execution_count": 22,
   "id": "325a21eb",
   "metadata": {},
   "outputs": [
    {
     "data": {
      "text/plain": [
       "{'cG': 0, 'cB': 0, 'cW': -\\mathcal{X}/2}"
      ]
     },
     "execution_count": 22,
     "metadata": {},
     "output_type": "execute_result"
    }
   ],
   "source": [
    "uvmodels.L_KSVZ.couplings"
   ]
  },
  {
   "cell_type": "code",
   "execution_count": 23,
   "id": "4dedfcda",
   "metadata": {},
   "outputs": [
    {
     "data": {
      "text/markdown": [
       "### ALP couplings\n",
       "- Scale: $10^{3}$ GeV\n",
       "- Basis: ```derivative_above```\n",
       "- EW scale: $10^{2}$ GeV\n",
       "<details><summary>Couplings:</summary>\n",
       "\n",
       "- $c_G = 0.00$\n",
       "- $c_B = 0.00$\n",
       "- $c_W = -5.00\\times10^{-1}$\n",
       "- $c_{q_L} = \\begin{pmatrix}0.00 & 0.00 & 0.00 \\\\0.00 & 0.00 & 0.00 \\\\0.00 & 0.00 & 0.00 \\end{pmatrix}$\n",
       "- $c_{u_R} = \\begin{pmatrix}0.00 & 0.00 & 0.00 \\\\0.00 & 0.00 & 0.00 \\\\0.00 & 0.00 & 0.00 \\end{pmatrix}$\n",
       "- $c_{d_R} = \\begin{pmatrix}0.00 & 0.00 & 0.00 \\\\0.00 & 0.00 & 0.00 \\\\0.00 & 0.00 & 0.00 \\end{pmatrix}$\n",
       "- $c_{\\ell_L} = \\begin{pmatrix}0.00 & 0.00 & 0.00 \\\\0.00 & 0.00 & 0.00 \\\\0.00 & 0.00 & 0.00 \\end{pmatrix}$\n",
       "- $c_{e_R} = \\begin{pmatrix}0.00 & 0.00 & 0.00 \\\\0.00 & 0.00 & 0.00 \\\\0.00 & 0.00 & 0.00 \\end{pmatrix}$\n",
       "</details>\n",
       "<details><summary>Yukawa matrices:</summary>\n",
       "\n",
       "- $Y_u = \\begin{pmatrix}6.37\\times10^{-6} & 0.00 & 0.00 \\\\0.00 & 3.18\\times10^{-3} & 0.00 \\\\0.00 & 0.00 & 8.64\\times10^{-1} \\end{pmatrix}$\n",
       "- $Y_d = \\begin{pmatrix}1.32\\times10^{-5} & 6.21\\times10^{-5} & 1.53\\times10^{-5} - 4.95\\times10^{-5}\\,i \\\\-3.04\\times10^{-6} - 2.00\\times10^{-9}\\,i & 2.69\\times10^{-4} - 9.41\\times10^{-9}\\,i & 6.04\\times10^{-4} \\\\1.16\\times10^{-7} - 4.65\\times10^{-8}\\,i & -1.17\\times10^{-5} - 2.19\\times10^{-7}\\,i & 1.40\\times10^{-2} \\end{pmatrix}$\n",
       "- $Y_e = \\begin{pmatrix}2.98\\times10^{-6} & 0.00 & 0.00 \\\\0.00 & 6.17\\times10^{-4} & 0.00 \\\\0.00 & 0.00 & 1.04\\times10^{-2} \\end{pmatrix}$\n",
       "</details>\n"
      ],
      "text/plain": [
       "<alpaca.rge.classes.ALPcouplings at 0x78d16e565d00>"
      ]
     },
     "execution_count": 23,
     "metadata": {},
     "output_type": "execute_result"
    }
   ],
   "source": [
    "uvmodels.L_KSVZ.get_couplings({uvmodels.KSVZ_charge: 1.0}, scale=1000.0)"
   ]
  },
  {
   "cell_type": "code",
   "execution_count": 24,
   "id": "9cc24173",
   "metadata": {},
   "outputs": [
    {
     "data": {
      "text/plain": [
       "{'cG': 0, 'cB': -\\mathcal{X}/4, 'cW': 0}"
      ]
     },
     "execution_count": 24,
     "metadata": {},
     "output_type": "execute_result"
    }
   ],
   "source": [
    "uvmodels.Y_KSVZ.couplings"
   ]
  },
  {
   "cell_type": "code",
   "execution_count": 25,
   "id": "9cbe69f1",
   "metadata": {},
   "outputs": [
    {
     "data": {
      "text/markdown": [
       "### ALP couplings\n",
       "- Scale: $10^{3}$ GeV\n",
       "- Basis: ```derivative_above```\n",
       "- EW scale: $10^{2}$ GeV\n",
       "<details><summary>Couplings:</summary>\n",
       "\n",
       "- $c_G = 0.00$\n",
       "- $c_B = -2.50\\times10^{-1}$\n",
       "- $c_W = 0.00$\n",
       "- $c_{q_L} = \\begin{pmatrix}0.00 & 0.00 & 0.00 \\\\0.00 & 0.00 & 0.00 \\\\0.00 & 0.00 & 0.00 \\end{pmatrix}$\n",
       "- $c_{u_R} = \\begin{pmatrix}0.00 & 0.00 & 0.00 \\\\0.00 & 0.00 & 0.00 \\\\0.00 & 0.00 & 0.00 \\end{pmatrix}$\n",
       "- $c_{d_R} = \\begin{pmatrix}0.00 & 0.00 & 0.00 \\\\0.00 & 0.00 & 0.00 \\\\0.00 & 0.00 & 0.00 \\end{pmatrix}$\n",
       "- $c_{\\ell_L} = \\begin{pmatrix}0.00 & 0.00 & 0.00 \\\\0.00 & 0.00 & 0.00 \\\\0.00 & 0.00 & 0.00 \\end{pmatrix}$\n",
       "- $c_{e_R} = \\begin{pmatrix}0.00 & 0.00 & 0.00 \\\\0.00 & 0.00 & 0.00 \\\\0.00 & 0.00 & 0.00 \\end{pmatrix}$\n",
       "</details>\n",
       "<details><summary>Yukawa matrices:</summary>\n",
       "\n",
       "- $Y_u = \\begin{pmatrix}6.37\\times10^{-6} & 0.00 & 0.00 \\\\0.00 & 3.18\\times10^{-3} & 0.00 \\\\0.00 & 0.00 & 8.64\\times10^{-1} \\end{pmatrix}$\n",
       "- $Y_d = \\begin{pmatrix}1.32\\times10^{-5} & 6.21\\times10^{-5} & 1.53\\times10^{-5} - 4.95\\times10^{-5}\\,i \\\\-3.04\\times10^{-6} - 2.00\\times10^{-9}\\,i & 2.69\\times10^{-4} - 9.41\\times10^{-9}\\,i & 6.04\\times10^{-4} \\\\1.16\\times10^{-7} - 4.65\\times10^{-8}\\,i & -1.17\\times10^{-5} - 2.19\\times10^{-7}\\,i & 1.40\\times10^{-2} \\end{pmatrix}$\n",
       "- $Y_e = \\begin{pmatrix}2.98\\times10^{-6} & 0.00 & 0.00 \\\\0.00 & 6.17\\times10^{-4} & 0.00 \\\\0.00 & 0.00 & 1.04\\times10^{-2} \\end{pmatrix}$\n",
       "</details>\n"
      ],
      "text/plain": [
       "<alpaca.rge.classes.ALPcouplings at 0x78d16f112250>"
      ]
     },
     "execution_count": 25,
     "metadata": {},
     "output_type": "execute_result"
    }
   ],
   "source": [
    "uvmodels.Y_KSVZ.get_couplings({uvmodels.KSVZ_charge: 1.0}, scale=1000.0)"
   ]
  },
  {
   "cell_type": "code",
   "execution_count": 26,
   "id": "6234a95c",
   "metadata": {},
   "outputs": [
    {
     "data": {
      "text/plain": [
       "{'cqL': Matrix([\n",
       " [-3,  0, 0],\n",
       " [ 0, -2, 0],\n",
       " [ 0,  0, 0]]),\n",
       " 'cuR': Matrix([\n",
       " [5, 0, 0],\n",
       " [0, 1, 0],\n",
       " [0, 0, 0]]),\n",
       " 'cdR': Matrix([\n",
       " [4, 0, 0],\n",
       " [0, 3, 0],\n",
       " [0, 0, 3]]),\n",
       " 'clL': Matrix([\n",
       " [-1, 0, 0],\n",
       " [ 0, 0, 0],\n",
       " [ 0, 0, 0]]),\n",
       " 'ceR': Matrix([\n",
       " [8, 0, 0],\n",
       " [0, 5, 0],\n",
       " [0, 0, 3]]),\n",
       " 'cG': -13,\n",
       " 'cW': -8,\n",
       " 'cB': -86/3}"
      ]
     },
     "execution_count": 26,
     "metadata": {},
     "output_type": "execute_result"
    }
   ],
   "source": [
    "uvmodels.flaxion_benchmark.couplings"
   ]
  },
  {
   "cell_type": "code",
   "execution_count": 27,
   "id": "9c510641",
   "metadata": {},
   "outputs": [
    {
     "data": {
      "text/markdown": [
       "### ALP couplings\n",
       "- Scale: $10^{3}$ GeV\n",
       "- Basis: ```derivative_above```\n",
       "- EW scale: $10^{2}$ GeV\n",
       "<details><summary>Couplings:</summary>\n",
       "\n",
       "- $c_G = -1.30\\times10$\n",
       "- $c_B = -2.87\\times10$\n",
       "- $c_W = -8.00$\n",
       "- $c_{q_L} = \\begin{pmatrix}-3.00 & 0.00 & 0.00 \\\\0.00 & -2.00 & 0.00 \\\\0.00 & 0.00 & 0.00 \\end{pmatrix}$\n",
       "- $c_{u_R} = \\begin{pmatrix}5.00 & 0.00 & 0.00 \\\\0.00 & 1.00 & 0.00 \\\\0.00 & 0.00 & 0.00 \\end{pmatrix}$\n",
       "- $c_{d_R} = \\begin{pmatrix}4.00 & 0.00 & 0.00 \\\\0.00 & 3.00 & 0.00 \\\\0.00 & 0.00 & 3.00 \\end{pmatrix}$\n",
       "- $c_{\\ell_L} = \\begin{pmatrix}-1.00 & 0.00 & 0.00 \\\\0.00 & 0.00 & 0.00 \\\\0.00 & 0.00 & 0.00 \\end{pmatrix}$\n",
       "- $c_{e_R} = \\begin{pmatrix}8.00 & 0.00 & 0.00 \\\\0.00 & 5.00 & 0.00 \\\\0.00 & 0.00 & 3.00 \\end{pmatrix}$\n",
       "</details>\n",
       "<details><summary>Yukawa matrices:</summary>\n",
       "\n",
       "- $Y_u = \\begin{pmatrix}-2.34\\times10^{-5} + 7.55\\times10^{-6}\\,i & -3.99\\times10^{-3} + 4.21\\times10^{-3}\\,i & 3.19\\times10^{-2} - 1.58\\times10^{-2}\\,i \\\\-8.00\\times10^{-5} - 1.02\\times10^{-4}\\,i & 1.03\\times10^{-2} - 2.09\\times10^{-2}\\,i & -6.57\\times10^{-2} + 2.44\\times10^{-2}\\,i \\\\1.33\\times10^{-4} + 9.21\\times10^{-4}\\,i & -4.43\\times10^{-1} - 1.58\\times10^{-1}\\,i & 2.48 + 1.05\\,i \\end{pmatrix}$\n",
       "- $Y_d = \\begin{pmatrix}-1.13\\times10^{-4} + 3.60\\times10^{-5}\\,i & 5.11\\times10^{-4} - 1.47\\times10^{-4}\\,i & 2.14\\times10^{-4} - 1.73\\times10^{-4}\\,i \\\\-4.41\\times10^{-5} + 2.42\\times10^{-4}\\,i & -1.65\\times10^{-4} + 9.12\\times10^{-4}\\,i & -2.87\\times10^{-3} + 1.53\\times10^{-3}\\,i \\\\4.39\\times10^{-3} + 1.13\\times10^{-4}\\,i & -8.78\\times10^{-3} + 2.26\\times10^{-2}\\,i & 1.50\\times10^{-2} - 4.70\\times10^{-3}\\,i \\end{pmatrix}$\n",
       "- $Y_e = \\begin{pmatrix}-8.97\\times10^{-6} - 8.06\\times10^{-6}\\,i & 3.52\\times10^{-4} - 1.02\\times10^{-4}\\,i & -4.42\\times10^{-3} + 2.75\\times10^{-3}\\,i \\\\2.83\\times10^{-5} - 1.13\\times10^{-5}\\,i & 2.60\\times10^{-3} - 1.29\\times10^{-3}\\,i & -6.54\\times10^{-3} - 2.98\\times10^{-2}\\,i \\\\1.19\\times10^{-5} + 1.46\\times10^{-6}\\,i & 3.42\\times10^{-4} - 1.12\\times10^{-3}\\,i & 2.17\\times10^{-2} - 1.56\\times10^{-2}\\,i \\end{pmatrix}$\n",
       "</details>\n"
      ],
      "text/plain": [
       "<alpaca.rge.classes.ALPcouplings at 0x78d16efdc650>"
      ]
     },
     "execution_count": 27,
     "metadata": {},
     "output_type": "execute_result"
    }
   ],
   "source": [
    "uvmodels.flaxion_benchmark.get_couplings(eps=0.2, scale=1000.0)"
   ]
  },
  {
   "cell_type": "code",
   "execution_count": 28,
   "id": "515574bc",
   "metadata": {},
   "outputs": [
    {
     "data": {
      "text/plain": [
       "{'cqL': Matrix([\n",
       " [0, 0, 0],\n",
       " [0, 0, 0],\n",
       " [0, 0, 1]]),\n",
       " 'cuR': sin(beta)**2,\n",
       " 'cdR': cos(beta)**2,\n",
       " 'clL': Matrix([\n",
       " [0, 0, 0],\n",
       " [0, 0, 0],\n",
       " [0, 0, 1]]),\n",
       " 'ceR': cos(beta)**2,\n",
       " 'cG': -1/2,\n",
       " 'cW': 2,\n",
       " 'cB': -10/3}"
      ]
     },
     "execution_count": 28,
     "metadata": {},
     "output_type": "execute_result"
    }
   ],
   "source": [
    "uvmodels.nonuniversal_DFSZ.couplings"
   ]
  },
  {
   "cell_type": "code",
   "execution_count": 29,
   "id": "ce24d33c",
   "metadata": {},
   "outputs": [
    {
     "data": {
      "text/markdown": [
       "### ALP couplings\n",
       "- Scale: $10^{3}$ GeV\n",
       "- Basis: ```derivative_above```\n",
       "- EW scale: $10^{2}$ GeV\n",
       "<details><summary>Couplings:</summary>\n",
       "\n",
       "- $c_G = -5.00\\times10^{-1}$\n",
       "- $c_B = -3.33$\n",
       "- $c_W = 2.00$\n",
       "- $c_{q_L} = \\begin{pmatrix}0.00 & 0.00 & 0.00 \\\\0.00 & 0.00 & 0.00 \\\\0.00 & 0.00 & 1.00 \\end{pmatrix}$\n",
       "- $c_{u_R} = \\begin{pmatrix}9.90\\times10^{-1} & 0.00 & 0.00 \\\\0.00 & 9.90\\times10^{-1} & 0.00 \\\\0.00 & 0.00 & 9.90\\times10^{-1} \\end{pmatrix}$\n",
       "- $c_{d_R} = \\begin{pmatrix}9.90\\times10^{-3} & 0.00 & 0.00 \\\\0.00 & 9.90\\times10^{-3} & 0.00 \\\\0.00 & 0.00 & 9.90\\times10^{-3} \\end{pmatrix}$\n",
       "- $c_{\\ell_L} = \\begin{pmatrix}0.00 & 0.00 & 0.00 \\\\0.00 & 0.00 & 0.00 \\\\0.00 & 0.00 & 1.00 \\end{pmatrix}$\n",
       "- $c_{e_R} = \\begin{pmatrix}9.90\\times10^{-3} & 0.00 & 0.00 \\\\0.00 & 9.90\\times10^{-3} & 0.00 \\\\0.00 & 0.00 & 9.90\\times10^{-3} \\end{pmatrix}$\n",
       "</details>\n",
       "<details><summary>Yukawa matrices:</summary>\n",
       "\n",
       "- $Y_u = \\begin{pmatrix}6.37\\times10^{-6} & 0.00 & 0.00 \\\\0.00 & 3.18\\times10^{-3} & 0.00 \\\\0.00 & 0.00 & 8.64\\times10^{-1} \\end{pmatrix}$\n",
       "- $Y_d = \\begin{pmatrix}1.32\\times10^{-5} & 6.21\\times10^{-5} & 1.53\\times10^{-5} - 4.95\\times10^{-5}\\,i \\\\-3.04\\times10^{-6} - 2.00\\times10^{-9}\\,i & 2.69\\times10^{-4} - 9.41\\times10^{-9}\\,i & 6.04\\times10^{-4} \\\\1.16\\times10^{-7} - 4.65\\times10^{-8}\\,i & -1.17\\times10^{-5} - 2.19\\times10^{-7}\\,i & 1.40\\times10^{-2} \\end{pmatrix}$\n",
       "- $Y_e = \\begin{pmatrix}2.98\\times10^{-6} & 0.00 & 0.00 \\\\0.00 & 6.17\\times10^{-4} & 0.00 \\\\0.00 & 0.00 & 1.04\\times10^{-2} \\end{pmatrix}$\n",
       "</details>\n"
      ],
      "text/plain": [
       "<alpaca.rge.classes.ALPcouplings at 0x78d16eb9f020>"
      ]
     },
     "execution_count": 29,
     "metadata": {},
     "output_type": "execute_result"
    }
   ],
   "source": [
    "uvmodels.nonuniversal_DFSZ.get_couplings({uvmodels.beta: np.atan(10.0)}, scale=1000.0)"
   ]
  },
  {
   "cell_type": "markdown",
   "id": "e1addab5",
   "metadata": {},
   "source": [
    "## User-defined classes of models"
   ]
  },
  {
   "cell_type": "code",
   "execution_count": 30,
   "id": "86d6ea22",
   "metadata": {},
   "outputs": [
    {
     "name": "stdout",
     "output_type": "stream",
     "text": [
      "\\begin{align}\n",
      "c_{u_R} &= c_{f} \\nonumber \\\\\n",
      "c_{d_R} &= c_{f} \\nonumber \\\\\n",
      "c_{q_L} &= c_{f} \\nonumber \\\\\n",
      "c_{e_R} &= c_{f} \\nonumber \\\\\n",
      "c_{\\ell_L} &= c_{f} \\nonumber \n",
      "\\end{align}\n"
     ]
    },
    {
     "data": {
      "text/markdown": [
       "### ALP couplings\n",
       "- Scale: $10^{3}$ GeV\n",
       "- Basis: ```derivative_above```\n",
       "- EW scale: $10^{2}$ GeV\n",
       "<details><summary>Couplings:</summary>\n",
       "\n",
       "- $c_G = 0.00$\n",
       "- $c_B = 0.00$\n",
       "- $c_W = 0.00$\n",
       "- $c_{q_L} = \\begin{pmatrix}1.00 & 0.00 & 0.00 \\\\0.00 & 1.00 & 0.00 \\\\0.00 & 0.00 & 1.00 \\end{pmatrix}$\n",
       "- $c_{u_R} = \\begin{pmatrix}1.00 & 0.00 & 0.00 \\\\0.00 & 1.00 & 0.00 \\\\0.00 & 0.00 & 1.00 \\end{pmatrix}$\n",
       "- $c_{d_R} = \\begin{pmatrix}1.00 & 0.00 & 0.00 \\\\0.00 & 1.00 & 0.00 \\\\0.00 & 0.00 & 1.00 \\end{pmatrix}$\n",
       "- $c_{\\ell_L} = \\begin{pmatrix}1.00 & 0.00 & 0.00 \\\\0.00 & 1.00 & 0.00 \\\\0.00 & 0.00 & 1.00 \\end{pmatrix}$\n",
       "- $c_{e_R} = \\begin{pmatrix}1.00 & 0.00 & 0.00 \\\\0.00 & 1.00 & 0.00 \\\\0.00 & 0.00 & 1.00 \\end{pmatrix}$\n",
       "</details>\n",
       "<details><summary>Yukawa matrices:</summary>\n",
       "\n",
       "- $Y_u = \\begin{pmatrix}6.37\\times10^{-6} & 0.00 & 0.00 \\\\0.00 & 3.18\\times10^{-3} & 0.00 \\\\0.00 & 0.00 & 8.64\\times10^{-1} \\end{pmatrix}$\n",
       "- $Y_d = \\begin{pmatrix}1.32\\times10^{-5} & 6.21\\times10^{-5} & 1.53\\times10^{-5} - 4.95\\times10^{-5}\\,i \\\\-3.04\\times10^{-6} - 2.00\\times10^{-9}\\,i & 2.69\\times10^{-4} - 9.41\\times10^{-9}\\,i & 6.04\\times10^{-4} \\\\1.16\\times10^{-7} - 4.65\\times10^{-8}\\,i & -1.17\\times10^{-5} - 2.19\\times10^{-7}\\,i & 1.40\\times10^{-2} \\end{pmatrix}$\n",
       "- $Y_e = \\begin{pmatrix}2.98\\times10^{-6} & 0.00 & 0.00 \\\\0.00 & 6.17\\times10^{-4} & 0.00 \\\\0.00 & 0.00 & 1.04\\times10^{-2} \\end{pmatrix}$\n",
       "</details>\n"
      ],
      "text/plain": [
       "<alpaca.rge.classes.ALPcouplings at 0x78d16eb9f890>"
      ]
     },
     "execution_count": 30,
     "metadata": {},
     "output_type": "execute_result"
    }
   ],
   "source": [
    "fermion_couplings = ['cuR', 'cdR', 'cqL', 'ceR', 'clL']\n",
    "class UniversalModel(uvmodels.ModelBase):\n",
    "    \"\"\"Model with universal couplings to fermions.\"\"\"\n",
    "    def __init__(self, name: str, cf: sp.Expr):\n",
    "        super().__init__(name)\n",
    "        self.couplings = {c: cf for c in fermion_couplings}\n",
    "        \n",
    "cf = sp.Symbol(\"c_f\")\n",
    "univ = UniversalModel(\"Universal\", cf)\n",
    "\n",
    "print(univ.couplings_latex())\n",
    "couplings_universal = univ.get_couplings({cf: 1.0}, scale=1000)\n",
    "couplings_universal"
   ]
  },
  {
   "cell_type": "code",
   "execution_count": null,
   "id": "23f9945d",
   "metadata": {},
   "outputs": [],
   "source": []
  }
 ],
 "metadata": {
  "kernelspec": {
   "display_name": ".venv",
   "language": "python",
   "name": "python3"
  },
  "language_info": {
   "codemirror_mode": {
    "name": "ipython",
    "version": 3
   },
   "file_extension": ".py",
   "mimetype": "text/x-python",
   "name": "python",
   "nbconvert_exporter": "python",
   "pygments_lexer": "ipython3",
   "version": "3.13.5"
  }
 },
 "nbformat": 4,
 "nbformat_minor": 5
}
