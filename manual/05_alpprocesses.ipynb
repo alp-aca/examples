{
 "cells": [
  {
   "cell_type": "markdown",
   "id": "7e6280d2",
   "metadata": {},
   "source": [
    "# 5: ALP processes"
   ]
  },
  {
   "cell_type": "code",
   "execution_count": 1,
   "id": "e79912ff",
   "metadata": {},
   "outputs": [],
   "source": [
    "import alpaca\n",
    "import numpy as np\n",
    "\n",
    "mB = 5.279"
   ]
  },
  {
   "cell_type": "markdown",
   "id": "9b6db711",
   "metadata": {},
   "source": [
    "We calculate the branching ratios for several processes: $a\\to \\eta\\pi\\pi$ (a hadronic ALP decay), $B^0 \\to K^{*0} a$ (a mesonic decay into an ALP), and $B^+ \\to K^+ a \\to e^+ e^-$ (a decay mediated by an on-shell ALP):"
   ]
  },
  {
   "cell_type": "code",
   "execution_count": 10,
   "id": "f9ac21eb",
   "metadata": {},
   "outputs": [
    {
     "name": "stdout",
     "output_type": "stream",
     "text": [
      "BR(a -> eta pi+ pi-) = 3.05992e-01\n",
      "BR(B0 -> K*0 a) = 1.13747e-01\n",
      "BR(B+ -> K+ e e) = 7.13931e-08\n"
     ]
    }
   ],
   "source": [
    "transitions = [\n",
    "    'a -> eta pi+ pi-',\n",
    "    'B0 -> K*0 a',\n",
    "    'B+ -> K+ e e',\n",
    "]\n",
    "\n",
    "couplings = alpaca.ALPcouplings(\n",
    "{'cqL':1.0}, \n",
    "scale = 4*np.pi*1000, \n",
    "basis='derivative_above').match_run(\n",
    "scale_out=mB,\n",
    "basis='VA_below')\n",
    "\n",
    "for tr in transitions:\n",
    "    br = alpaca.branching_ratio(\n",
    "        transition = tr,\n",
    "        ma = 1.2,\n",
    "        couplings = couplings,\n",
    "        fa = 1000.0\n",
    "    )\n",
    "    print(f\"BR({tr}) = {br:.5e}\")"
   ]
  },
  {
   "cell_type": "markdown",
   "id": "99613dc8",
   "metadata": {},
   "source": [
    "Next, we check how the branching ratio of $B^+\\to K^+ a \\to e^+ e^-$ if the ALP can decay into a dark sector with $\\mathrm{BR}(a\\to\\mathrm{DS}) = 0.1$"
   ]
  },
  {
   "cell_type": "code",
   "execution_count": 15,
   "id": "c53cd686",
   "metadata": {},
   "outputs": [
    {
     "name": "stdout",
     "output_type": "stream",
     "text": [
      "BR(B+ -> K+ e e) with dark sector = 6.29901e-08\n"
     ]
    }
   ],
   "source": [
    "br_ds = alpaca.branching_ratio(\n",
    "        transition = transitions[2],\n",
    "        ma = 1.2,\n",
    "        couplings = couplings,\n",
    "        fa = 1000.0,\n",
    "        br_dark = 1e-1\n",
    "    )\n",
    "print(f\"BR({transitions[2]}) with dark sector = {br_ds:.5e}\")"
   ]
  },
  {
   "cell_type": "markdown",
   "id": "bb5ec703",
   "metadata": {},
   "source": [
    "With a similar syntax, we can also calculate the decay width of the ALP and the modification of mesonic decay widths, and cross-sections:"
   ]
  },
  {
   "cell_type": "code",
   "execution_count": 3,
   "id": "c275cb87",
   "metadata": {},
   "outputs": [
    {
     "name": "stdout",
     "output_type": "stream",
     "text": [
      "Decay width of the ALP: 2.18754e-10 GeV\n",
      "Modification of the B0 decay width: 6.28133e-14 GeV\n",
      "Cross-section at Belle II: 9.00771e-06 pb\n"
     ]
    }
   ],
   "source": [
    "dw_alp = alpaca.decay_width(\n",
    "    'a',\n",
    "    ma = 1.2,\n",
    "    couplings = couplings,\n",
    "    fa = 1000.0\n",
    ")\n",
    "print(f\"Decay width of the ALP: {dw_alp:.5e} GeV\")\n",
    "\n",
    "dw_B = alpaca.decay_width(\n",
    "    'B0',\n",
    "    ma = 1.2,\n",
    "    couplings = couplings,\n",
    "    fa = 1000.0\n",
    ")\n",
    "print(f\"Modification of the B0 decay width: {dw_B:.5e} GeV\")\n",
    "\n",
    "sigma_belleII = alpaca.cross_section(\n",
    "    'e e -> gamma a',\n",
    "    ma = 1.2,\n",
    "    couplings = couplings,\n",
    "    fa = 1000.0,\n",
    "    s = 10.58**2\n",
    ")\n",
    "print(f\"Cross-section at Belle II: {sigma_belleII:.5e} pb\")"
   ]
  },
  {
   "cell_type": "markdown",
   "id": "a6e05165",
   "metadata": {},
   "source": [
    "These functions are vectorized, and accept grids of parameters as arguments:"
   ]
  },
  {
   "cell_type": "code",
   "execution_count": 4,
   "id": "46dfeac9",
   "metadata": {},
   "outputs": [],
   "source": [
    "# Create ranges of ma and fa, logarithmically spaced\n",
    "ma = np.logspace(-1, 1, 30)\n",
    "fa = np.logspace(3, 8, 30)\n",
    "Lambda = 4*np.pi*fa\n",
    "# Create a list of ALPcouplings\n",
    "couplings = [\n",
    "    alpaca.uvmodels.QED_DFSZ.get_couplings(\n",
    "        {alpaca.uvmodels.beta: np.pi/4}, l\n",
    "    ).match_run(10.0, 'VA_below') for l in Lambda\n",
    "]\n",
    "# Combine them into grids\n",
    "x_ma, y_fa = np.meshgrid(ma, fa)\n",
    "x_ma, y_couplings = np.meshgrid(ma, couplings)\n",
    "\n",
    "dw_photons = alpaca.decay_width(\n",
    "    'a -> gamma gamma',\n",
    "    ma = x_ma,\n",
    "    couplings = y_couplings,\n",
    "    fa = y_fa,\n",
    "    integrator = 'leadinglog'\n",
    ")"
   ]
  },
  {
   "cell_type": "code",
   "execution_count": 5,
   "id": "ad80bd2e",
   "metadata": {},
   "outputs": [
    {
     "data": {
      "text/plain": [
       "(30, 30)"
      ]
     },
     "execution_count": 5,
     "metadata": {},
     "output_type": "execute_result"
    }
   ],
   "source": [
    "dw_photons.shape"
   ]
  },
  {
   "cell_type": "code",
   "execution_count": 6,
   "id": "6bbdd342",
   "metadata": {},
   "outputs": [
    {
     "name": "stdout",
     "output_type": "stream",
     "text": [
      "Max decay width (a -> gamma gamma): 4.88730e-11 GeV, at ma = 7.279 GeV, fa = 1.00000e+03 GeV\n"
     ]
    }
   ],
   "source": [
    "max_index = np.unravel_index(np.argmax(dw_photons), dw_photons.shape)\n",
    "print(f\"Max decay width (a -> gamma gamma): {np.max(dw_photons):.5e} GeV, at ma = {x_ma[max_index]:.5} GeV, fa = {y_fa[max_index]:.5e} GeV\")"
   ]
  },
  {
   "cell_type": "code",
   "execution_count": 7,
   "id": "14bf1730",
   "metadata": {},
   "outputs": [],
   "source": [
    "dw_alp = alpaca.alp_channels_decay_widths(\n",
    "    ma = x_ma[5,14],\n",
    "    couplings = y_couplings[5,14],\n",
    "    fa = y_fa[5,14]\n",
    ")\n",
    "\n",
    "br_alp = alpaca.alp_channels_branching_ratios(\n",
    "    ma = x_ma[5,14],\n",
    "    couplings = y_couplings[5,14],\n",
    "    fa = y_fa[5,4]\n",
    ")"
   ]
  },
  {
   "cell_type": "code",
   "execution_count": 8,
   "id": "7fb5ad2d",
   "metadata": {},
   "outputs": [
    {
     "data": {
      "text/plain": [
       "{'a -> electron electron': array(2.36782499e-16),\n",
       " 'a -> muon muon': array(9.86328411e-12),\n",
       " 'a -> tau tau': array(0.),\n",
       " 'a -> electron muon': array(0.),\n",
       " 'a -> electron tau': array(0.),\n",
       " 'a -> muon tau': array(0.),\n",
       " 'a -> charm charm': array(0.),\n",
       " 'a -> bottom bottom': array(0.),\n",
       " 'a -> pion pion pion': array(4.34974225e-12),\n",
       " 'a -> pion+ pion- pion0': array(4.23538608e-12),\n",
       " 'a -> pion0 pion0 pion0': array(2.15177884e-13),\n",
       " 'a -> eta pion pion': array(1.85198529e-14),\n",
       " 'a -> eta pion0 pion0': array(7.11078076e-15),\n",
       " 'a -> eta pion+ pion-': array(1.18182989e-14),\n",
       " 'a -> eta_prime pion pion': array(0.),\n",
       " 'a -> eta_prime pion0 pion0': array(0.),\n",
       " 'a -> eta_prime pion+ pion-': array(0.),\n",
       " 'a -> photon pion pion': array(3.80416846e-13),\n",
       " 'a -> omega omega': array(0.),\n",
       " 'a -> gluon gluon': array(0.),\n",
       " 'a -> photon photon': array(2.22859409e-14),\n",
       " 'a -> hadrons': array(4.74867895e-12),\n",
       " 'a -> dark': array(0.)}"
      ]
     },
     "execution_count": 8,
     "metadata": {},
     "output_type": "execute_result"
    }
   ],
   "source": [
    "dw_alp"
   ]
  },
  {
   "cell_type": "code",
   "execution_count": 9,
   "id": "5c0bcf1d",
   "metadata": {},
   "outputs": [
    {
     "data": {
      "text/plain": [
       "{'a -> electron electron': array(1.61797621e-05),\n",
       " 'a -> muon muon': array(0.67397545),\n",
       " 'a -> tau tau': array(0.),\n",
       " 'a -> electron muon': array(0.),\n",
       " 'a -> electron tau': array(0.),\n",
       " 'a -> muon tau': array(0.),\n",
       " 'a -> charm charm': array(0.),\n",
       " 'a -> bottom bottom': array(0.),\n",
       " 'a -> pion pion pion': array(0.29722549),\n",
       " 'a -> pion+ pion- pion0': array(0.28941134),\n",
       " 'a -> pion0 pion0 pion0': array(0.01470348),\n",
       " 'a -> eta pion pion': array(0.00126549),\n",
       " 'a -> eta pion0 pion0': array(0.00048589),\n",
       " 'a -> eta pion+ pion-': array(0.00080757),\n",
       " 'a -> eta_prime pion pion': array(0.),\n",
       " 'a -> eta_prime pion0 pion0': array(0.),\n",
       " 'a -> eta_prime pion+ pion-': array(0.),\n",
       " 'a -> photon pion pion': array(0.02599455),\n",
       " 'a -> omega omega': array(0.),\n",
       " 'a -> gluon gluon': array(0.),\n",
       " 'a -> photon photon': array(0.00152284),\n",
       " 'a -> hadrons': array(0.32448554),\n",
       " 'a -> dark': array(0.)}"
      ]
     },
     "execution_count": 9,
     "metadata": {},
     "output_type": "execute_result"
    }
   ],
   "source": [
    "br_alp"
   ]
  }
 ],
 "metadata": {
  "kernelspec": {
   "display_name": ".venv",
   "language": "python",
   "name": "python3"
  },
  "language_info": {
   "codemirror_mode": {
    "name": "ipython",
    "version": 3
   },
   "file_extension": ".py",
   "mimetype": "text/x-python",
   "name": "python",
   "nbconvert_exporter": "python",
   "pygments_lexer": "ipython3",
   "version": "3.13.5"
  }
 },
 "nbformat": 4,
 "nbformat_minor": 5
}
