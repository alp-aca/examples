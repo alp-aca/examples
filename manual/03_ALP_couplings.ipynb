{
 "cells": [
  {
   "cell_type": "markdown",
   "id": "a5e96d65",
   "metadata": {},
   "source": [
    "# 3: Defining the ALP couplings, running and matching"
   ]
  },
  {
   "cell_type": "code",
   "execution_count": 1,
   "id": "76b85215",
   "metadata": {},
   "outputs": [],
   "source": [
    "import alpaca\n",
    "import numpy as np"
   ]
  },
  {
   "cell_type": "markdown",
   "id": "eed98def",
   "metadata": {},
   "source": [
    "## 3.1 Bases for ALP couplings"
   ]
  },
  {
   "cell_type": "markdown",
   "id": "598950f4",
   "metadata": {},
   "source": [
    "In this first example, we define the ALP couplings such that $c_{q_L} = 1_{3\\times 3}$ in the basis of derivative couplings above the EW were the Yukawa matrix for the down-type quarks is diagonal:"
   ]
  },
  {
   "cell_type": "code",
   "execution_count": 2,
   "id": "9485a6c4",
   "metadata": {},
   "outputs": [],
   "source": [
    "couplings = alpaca.ALPcouplings(\n",
    "    {'cqL': 1.0},\n",
    "    scale=1000,\n",
    "    basis='derivative_above',\n",
    "    ew_scale=91,\n",
    "    VdL = np.eye(3)\n",
    ")"
   ]
  },
  {
   "cell_type": "code",
   "execution_count": 3,
   "id": "ba03d79e",
   "metadata": {},
   "outputs": [
    {
     "data": {
      "text/markdown": [
       "### ALP couplings\n",
       "- Scale: $10^{3}$ GeV\n",
       "- Basis: ```derivative_above```\n",
       "- EW scale: $9.10\\times10$ GeV\n",
       "<details><summary>Couplings:</summary>\n",
       "\n",
       "- $c_G = 0.00$\n",
       "- $c_B = 0.00$\n",
       "- $c_W = 0.00$\n",
       "- $c_{q_L} = \\begin{pmatrix}1.00 & 0.00 & 0.00 \\\\0.00 & 1.00 & 0.00 \\\\0.00 & 0.00 & 1.00 \\end{pmatrix}$\n",
       "- $c_{u_R} = \\begin{pmatrix}0.00 & 0.00 & 0.00 \\\\0.00 & 0.00 & 0.00 \\\\0.00 & 0.00 & 0.00 \\end{pmatrix}$\n",
       "- $c_{d_R} = \\begin{pmatrix}0.00 & 0.00 & 0.00 \\\\0.00 & 0.00 & 0.00 \\\\0.00 & 0.00 & 0.00 \\end{pmatrix}$\n",
       "- $c_{\\ell_L} = \\begin{pmatrix}0.00 & 0.00 & 0.00 \\\\0.00 & 0.00 & 0.00 \\\\0.00 & 0.00 & 0.00 \\end{pmatrix}$\n",
       "- $c_{e_R} = \\begin{pmatrix}0.00 & 0.00 & 0.00 \\\\0.00 & 0.00 & 0.00 \\\\0.00 & 0.00 & 0.00 \\end{pmatrix}$\n",
       "</details>\n",
       "<details><summary>Yukawa matrices:</summary>\n",
       "\n",
       "- $Y_u = \\begin{pmatrix}6.21\\times10^{-6} & 7.14\\times10^{-4} & 9.42\\times10^{-4} - 3.04\\times10^{-3}\\,i \\\\-1.43\\times10^{-6} - 9.41\\times10^{-10}\\,i & 3.10\\times10^{-3} - 1.08\\times10^{-7}\\,i & 3.72\\times10^{-2} \\\\5.47\\times10^{-8} - 2.18\\times10^{-8}\\,i & -1.34\\times10^{-4} - 2.51\\times10^{-6}\\,i & 8.63\\times10^{-1} \\end{pmatrix}$\n",
       "- $Y_d = \\begin{pmatrix}1.36\\times10^{-5} & 0.00 & 0.00 \\\\0.00 & 2.77\\times10^{-4} & 0.00 \\\\0.00 & 0.00 & 1.40\\times10^{-2} \\end{pmatrix}$\n",
       "- $Y_e = \\begin{pmatrix}2.98\\times10^{-6} & 0.00 & 0.00 \\\\0.00 & 6.17\\times10^{-4} & 0.00 \\\\0.00 & 0.00 & 1.04\\times10^{-2} \\end{pmatrix}$\n",
       "</details>\n"
      ],
      "text/plain": [
       "<alpaca.rge.classes.ALPcouplings at 0x1160e2cf0>"
      ]
     },
     "execution_count": 3,
     "metadata": {},
     "output_type": "execute_result"
    }
   ],
   "source": [
    "couplings"
   ]
  },
  {
   "cell_type": "markdown",
   "id": "2bd2fc93",
   "metadata": {},
   "source": [
    "Next we define a set of ALP couplings including non-universal couplings to right-handed leptons, and couplings to $W^\\pm$ bosons."
   ]
  },
  {
   "cell_type": "code",
   "execution_count": 4,
   "id": "ef261058",
   "metadata": {},
   "outputs": [],
   "source": [
    "couplings = alpaca.ALPcouplings(\n",
    "    {'ceR':\n",
    "        np.array([[0.5, 0.1, 0],\n",
    "                 [-0.2, 0.4, 0],\n",
    "                 [0, 0, 0]]),\n",
    "    'cW':1.0},\n",
    "    scale=1000,\n",
    "    basis='derivative_above'\n",
    ")"
   ]
  },
  {
   "cell_type": "code",
   "execution_count": 5,
   "id": "b0dd7a61",
   "metadata": {},
   "outputs": [
    {
     "data": {
      "text/markdown": [
       "### ALP couplings\n",
       "- Scale: $10^{3}$ GeV\n",
       "- Basis: ```derivative_above```\n",
       "- EW scale: $10^{2}$ GeV\n",
       "<details><summary>Couplings:</summary>\n",
       "\n",
       "- $c_G = 0.00$\n",
       "- $c_B = 0.00$\n",
       "- $c_W = 1.00$\n",
       "- $c_{q_L} = \\begin{pmatrix}0.00 & 0.00 & 0.00 \\\\0.00 & 0.00 & 0.00 \\\\0.00 & 0.00 & 0.00 \\end{pmatrix}$\n",
       "- $c_{u_R} = \\begin{pmatrix}0.00 & 0.00 & 0.00 \\\\0.00 & 0.00 & 0.00 \\\\0.00 & 0.00 & 0.00 \\end{pmatrix}$\n",
       "- $c_{d_R} = \\begin{pmatrix}0.00 & 0.00 & 0.00 \\\\0.00 & 0.00 & 0.00 \\\\0.00 & 0.00 & 0.00 \\end{pmatrix}$\n",
       "- $c_{\\ell_L} = \\begin{pmatrix}0.00 & 0.00 & 0.00 \\\\0.00 & 0.00 & 0.00 \\\\0.00 & 0.00 & 0.00 \\end{pmatrix}$\n",
       "- $c_{e_R} = \\begin{pmatrix}5.00\\times10^{-1} & 10^{-1} & 0.00 \\\\-2.00\\times10^{-1} & 4.00\\times10^{-1} & 0.00 \\\\0.00 & 0.00 & 0.00 \\end{pmatrix}$\n",
       "</details>\n",
       "<details><summary>Yukawa matrices:</summary>\n",
       "\n",
       "- $Y_u = \\begin{pmatrix}6.37\\times10^{-6} & 0.00 & 0.00 \\\\0.00 & 3.18\\times10^{-3} & 0.00 \\\\0.00 & 0.00 & 8.64\\times10^{-1} \\end{pmatrix}$\n",
       "- $Y_d = \\begin{pmatrix}1.32\\times10^{-5} & 6.21\\times10^{-5} & 1.53\\times10^{-5} - 4.95\\times10^{-5}\\,i \\\\-3.04\\times10^{-6} - 2.00\\times10^{-9}\\,i & 2.69\\times10^{-4} - 9.41\\times10^{-9}\\,i & 6.04\\times10^{-4} \\\\1.16\\times10^{-7} - 4.65\\times10^{-8}\\,i & -1.17\\times10^{-5} - 2.19\\times10^{-7}\\,i & 1.40\\times10^{-2} \\end{pmatrix}$\n",
       "- $Y_e = \\begin{pmatrix}2.98\\times10^{-6} & 0.00 & 0.00 \\\\0.00 & 6.17\\times10^{-4} & 0.00 \\\\0.00 & 0.00 & 1.04\\times10^{-2} \\end{pmatrix}$\n",
       "</details>\n"
      ],
      "text/plain": [
       "<alpaca.rge.classes.ALPcouplings at 0x11da54190>"
      ]
     },
     "execution_count": 5,
     "metadata": {},
     "output_type": "execute_result"
    }
   ],
   "source": [
    "couplings"
   ]
  },
  {
   "cell_type": "markdown",
   "id": "ccc9a393",
   "metadata": {},
   "source": [
    "Note that, since we have not passed any arguments defining the Yukawa matrices, ALPaca assumes a basis were the $Y_u$ is diagonal."
   ]
  },
  {
   "cell_type": "markdown",
   "id": "2327544a",
   "metadata": {},
   "source": [
    "## 3.2 Matching and running"
   ]
  },
  {
   "cell_type": "markdown",
   "id": "308492c1",
   "metadata": {},
   "source": [
    "In this example, we start with universal couplings to left-handed quarks at the scale $\\Lambda =1\\,\\mathrm{TeV}$, and perform the running and matching down to the scale $\\mu = 10\\,\\mathrm{GeV}$. All the optional arguments of the method `match_run` are used:"
   ]
  },
  {
   "cell_type": "code",
   "execution_count": 6,
   "id": "098499b6",
   "metadata": {},
   "outputs": [],
   "source": [
    "couplings_1000 = alpaca.ALPcouplings(\n",
    "    {'cqL': 1.0},\n",
    "    scale=1000,\n",
    "    basis='derivative_above'\n",
    ")\n",
    "\n",
    "couplings_10 = couplings_1000.match_run(\n",
    "    scale_out=10,\n",
    "    basis='VA_below',\n",
    "    integrator='scipy',\n",
    "    beta='full',\n",
    "    match_tildecouplings=True,\n",
    "    scipy_method='DOP853',\n",
    "    scipy_atol=1e-6,\n",
    "    scipy_rtol=1e-8\n",
    ")"
   ]
  },
  {
   "cell_type": "code",
   "execution_count": 7,
   "id": "8fb2192b",
   "metadata": {},
   "outputs": [
    {
     "data": {
      "text/markdown": [
       "### ALP couplings\n",
       "- Scale: $10^{3}$ GeV\n",
       "- Basis: ```derivative_above```\n",
       "- EW scale: $10^{2}$ GeV\n",
       "<details><summary>Couplings:</summary>\n",
       "\n",
       "- $c_G = 0.00$\n",
       "- $c_B = 0.00$\n",
       "- $c_W = 0.00$\n",
       "- $c_{q_L} = \\begin{pmatrix}1.00 & 0.00 & 0.00 \\\\0.00 & 1.00 & 0.00 \\\\0.00 & 0.00 & 1.00 \\end{pmatrix}$\n",
       "- $c_{u_R} = \\begin{pmatrix}0.00 & 0.00 & 0.00 \\\\0.00 & 0.00 & 0.00 \\\\0.00 & 0.00 & 0.00 \\end{pmatrix}$\n",
       "- $c_{d_R} = \\begin{pmatrix}0.00 & 0.00 & 0.00 \\\\0.00 & 0.00 & 0.00 \\\\0.00 & 0.00 & 0.00 \\end{pmatrix}$\n",
       "- $c_{\\ell_L} = \\begin{pmatrix}0.00 & 0.00 & 0.00 \\\\0.00 & 0.00 & 0.00 \\\\0.00 & 0.00 & 0.00 \\end{pmatrix}$\n",
       "- $c_{e_R} = \\begin{pmatrix}0.00 & 0.00 & 0.00 \\\\0.00 & 0.00 & 0.00 \\\\0.00 & 0.00 & 0.00 \\end{pmatrix}$\n",
       "</details>\n",
       "<details><summary>Yukawa matrices:</summary>\n",
       "\n",
       "- $Y_u = \\begin{pmatrix}6.37\\times10^{-6} & 0.00 & 0.00 \\\\0.00 & 3.18\\times10^{-3} & 0.00 \\\\0.00 & 0.00 & 8.64\\times10^{-1} \\end{pmatrix}$\n",
       "- $Y_d = \\begin{pmatrix}1.32\\times10^{-5} & 6.21\\times10^{-5} & 1.53\\times10^{-5} - 4.95\\times10^{-5}\\,i \\\\-3.04\\times10^{-6} - 2.00\\times10^{-9}\\,i & 2.69\\times10^{-4} - 9.41\\times10^{-9}\\,i & 6.04\\times10^{-4} \\\\1.16\\times10^{-7} - 4.65\\times10^{-8}\\,i & -1.17\\times10^{-5} - 2.19\\times10^{-7}\\,i & 1.40\\times10^{-2} \\end{pmatrix}$\n",
       "- $Y_e = \\begin{pmatrix}2.98\\times10^{-6} & 0.00 & 0.00 \\\\0.00 & 6.17\\times10^{-4} & 0.00 \\\\0.00 & 0.00 & 1.04\\times10^{-2} \\end{pmatrix}$\n",
       "</details>\n"
      ],
      "text/plain": [
       "<alpaca.rge.classes.ALPcouplings at 0x11da54550>"
      ]
     },
     "execution_count": 7,
     "metadata": {},
     "output_type": "execute_result"
    }
   ],
   "source": [
    "couplings_1000"
   ]
  },
  {
   "cell_type": "code",
   "execution_count": 8,
   "id": "b2e7b059",
   "metadata": {},
   "outputs": [
    {
     "data": {
      "text/markdown": [
       "### ALP couplings\n",
       "- Scale: $10$ GeV\n",
       "- Basis: ```VA_below```\n",
       "- EW scale: $10^{2}$ GeV\n",
       "<details><summary>Couplings:</summary>\n",
       "\n",
       "- $c_u^V = \\begin{pmatrix}1.07 + 2.31\\times10^{-19}\\,i & -6.73\\times10^{-10} - 2.11\\times10^{-15}\\,i \\\\-6.73\\times10^{-10} + 2.11\\times10^{-15}\\,i & 1.07 + 4.62\\times10^{-17}\\,i \\end{pmatrix}$\n",
       "- $c_u^A = \\begin{pmatrix}-9.33\\times10^{-1} - 5.66\\times10^{-19}\\,i & 6.73\\times10^{-10} + 2.11\\times10^{-15}\\,i \\\\6.73\\times10^{-10} - 2.11\\times10^{-15}\\,i & -9.33\\times10^{-1} - 4.30\\times10^{-17}\\,i \\end{pmatrix}$\n",
       "- $c_d^V = \\begin{pmatrix}9.20\\times10^{-1} - 3.68\\times10^{-19}\\,i & 3.28\\times10^{-6} - 4.40\\times10^{-7}\\,i & 1.29\\times10^{-4} + 1.01\\times10^{-5}\\,i \\\\3.28\\times10^{-6} + 4.40\\times10^{-7}\\,i & 9.20\\times10^{-1} + 1.99\\times10^{-17}\\,i & -5.96\\times10^{-4} + 3.77\\times10^{-6}\\,i \\\\1.29\\times10^{-4} - 1.01\\times10^{-5}\\,i & -5.96\\times10^{-4} - 3.77\\times10^{-6}\\,i & 9.12\\times10^{-1} - 2.48\\times10^{-17}\\,i \\end{pmatrix}$\n",
       "- $c_d^A = \\begin{pmatrix}-1.04 + 5.56\\times10^{-19}\\,i & -3.28\\times10^{-6} + 4.40\\times10^{-7}\\,i & -1.29\\times10^{-4} - 1.01\\times10^{-5}\\,i \\\\-3.28\\times10^{-6} - 4.40\\times10^{-7}\\,i & -1.04 - 2.37\\times10^{-17}\\,i & 5.96\\times10^{-4} - 3.77\\times10^{-6}\\,i \\\\-1.29\\times10^{-4} + 1.01\\times10^{-5}\\,i & 5.96\\times10^{-4} + 3.77\\times10^{-6}\\,i & -1.03 + 2.92\\times10^{-17}\\,i \\end{pmatrix}$\n",
       "- $c_e^V = \\begin{pmatrix}-6.97\\times10^{-2} - 2.60\\times10^{-20}\\,i & 0.00 & 0.00 \\\\0.00 & -6.97\\times10^{-2} - 2.60\\times10^{-20}\\,i & 0.00 \\\\0.00 & 0.00 & -6.97\\times10^{-2} - 2.60\\times10^{-20}\\,i \\end{pmatrix}$\n",
       "- $c_e^A = \\begin{pmatrix}-5.10\\times10^{-2} + 5.62\\times10^{-19}\\,i & 0.00 & 0.00 \\\\0.00 & -5.10\\times10^{-2} + 5.62\\times10^{-19}\\,i & 0.00 \\\\0.00 & 0.00 & -5.10\\times10^{-2} + 5.62\\times10^{-19}\\,i \\end{pmatrix}$\n",
       "- $c_\\nu = \\begin{pmatrix}1.66\\times10^{-2} + 5.74\\times10^{-19}\\,i & 0.00 & 0.00 \\\\0.00 & 1.66\\times10^{-2} + 5.74\\times10^{-19}\\,i & 0.00 \\\\0.00 & 0.00 & 1.66\\times10^{-2} + 5.74\\times10^{-19}\\,i \\end{pmatrix}$\n",
       "- $c_G = 0.00$\n",
       "- $c_\\gamma = 0.00$\n",
       "</details>\n"
      ],
      "text/plain": [
       "<alpaca.rge.classes.ALPcouplings at 0x11e2354d0>"
      ]
     },
     "execution_count": 8,
     "metadata": {},
     "output_type": "execute_result"
    }
   ],
   "source": [
    "couplings_10"
   ]
  },
  {
   "cell_type": "markdown",
   "id": "566e12a3",
   "metadata": {},
   "source": [
    "## 3.3 Other operations with `ALPcouplings`"
   ]
  },
  {
   "cell_type": "markdown",
   "id": "c6abd572",
   "metadata": {},
   "source": [
    "Individual couplings can be accessed and modified as if they were elements of a `dict`:"
   ]
  },
  {
   "cell_type": "code",
   "execution_count": 9,
   "id": "5e28df9a",
   "metadata": {},
   "outputs": [
    {
     "name": "stdout",
     "output_type": "stream",
     "text": [
      "c_qL^33 = 1.0\n",
      " c_W = 0.5\n"
     ]
    }
   ],
   "source": [
    "couplings = alpaca.ALPcouplings(\n",
    "    {'cqL': 1.0},\n",
    "    scale=1000,\n",
    "    basis='derivative_above'\n",
    ")\n",
    "\n",
    "couplings['cW'] = 0.5\n",
    "print(f\"c_qL^33 = {couplings['cqL'][2,2]}\\n c_W = {couplings['cW']}\")"
   ]
  },
  {
   "cell_type": "markdown",
   "id": "7ce11554",
   "metadata": {},
   "source": [
    "`ALPcouplings` defined at the same scale and basis can be summed together, and multiplied by an scalar. This allows, for example, to easily create grids of couplings:"
   ]
  },
  {
   "cell_type": "code",
   "execution_count": 10,
   "id": "db088d4e",
   "metadata": {},
   "outputs": [],
   "source": [
    "coupling_gamma = alpaca.ALPcouplings(\n",
    "    {'cgamma': 1.0},\n",
    "    scale=1000,\n",
    "    basis='massbasis_ew'\n",
    ")\n",
    "coupling_W = alpaca.ALPcouplings(\n",
    "    {'cW': 1.0},\n",
    "    scale=1000,\n",
    "    basis='massbasis_ew'\n",
    ")\n",
    "\n",
    "cgamma = np.logspace(-8, 0, 100)\n",
    "cW = np.logspace(-8, 0, 100)\n",
    "x_cgamma, y_cW = np.meshgrid(cgamma, cW)\n",
    "couplings_grid = x_cgamma * coupling_gamma + y_cW * coupling_W"
   ]
  },
  {
   "cell_type": "code",
   "execution_count": 15,
   "id": "445144dd",
   "metadata": {},
   "outputs": [
    {
     "data": {
      "text/plain": [
       "(np.float64(1.6297508346206436e-07), np.float64(1.1233240329780266e-07))"
      ]
     },
     "execution_count": 15,
     "metadata": {},
     "output_type": "execute_result"
    }
   ],
   "source": [
    "x_cgamma[13, 15], y_cW[13, 15]"
   ]
  },
  {
   "cell_type": "code",
   "execution_count": 16,
   "id": "d4f36e39",
   "metadata": {},
   "outputs": [
    {
     "data": {
      "text/markdown": [
       "### ALP couplings\n",
       "- Scale: $10^{3}$ GeV\n",
       "- Basis: ```massbasis_ew```\n",
       "- EW scale: $10^{2}$ GeV\n",
       "<details><summary>Couplings:</summary>\n",
       "\n",
       "- $c'_{u_L} = \\begin{pmatrix}0.00 & 0.00 & 0.00 \\\\0.00 & 0.00 & 0.00 \\\\0.00 & 0.00 & 0.00 \\end{pmatrix}$\n",
       "- $c'_{u_R} = \\begin{pmatrix}0.00 & 0.00 & 0.00 \\\\0.00 & 0.00 & 0.00 \\\\0.00 & 0.00 & 0.00 \\end{pmatrix}$\n",
       "- $c'_{d_L} = \\begin{pmatrix}0.00 & 0.00 & 0.00 \\\\0.00 & 0.00 & 0.00 \\\\0.00 & 0.00 & 0.00 \\end{pmatrix}$\n",
       "- $c'_{d_R} = \\begin{pmatrix}0.00 & 0.00 & 0.00 \\\\0.00 & 0.00 & 0.00 \\\\0.00 & 0.00 & 0.00 \\end{pmatrix}$\n",
       "- $c'_{e_L} = \\begin{pmatrix}0.00 & 0.00 & 0.00 \\\\0.00 & 0.00 & 0.00 \\\\0.00 & 0.00 & 0.00 \\end{pmatrix}$\n",
       "- $c'_{\\nu_L} = \\begin{pmatrix}0.00 & 0.00 & 0.00 \\\\0.00 & 0.00 & 0.00 \\\\0.00 & 0.00 & 0.00 \\end{pmatrix}$\n",
       "- $c'_{e_R} = \\begin{pmatrix}0.00 & 0.00 & 0.00 \\\\0.00 & 0.00 & 0.00 \\\\0.00 & 0.00 & 0.00 \\end{pmatrix}$\n",
       "- $c_\\gamma = 1.63\\times10^{-7}$\n",
       "- $c_{\\gamma Z} = 0.00$\n",
       "- $c_W = 1.12\\times10^{-7}$\n",
       "- $c_Z = 0.00$\n",
       "- $c_G = 0.00$\n",
       "</details>\n",
       "<details><summary>Yukawa matrices:</summary>\n",
       "\n",
       "- $Y_u = \\begin{pmatrix}6.37\\times10^{-6} & 0.00 & 0.00 \\\\0.00 & 3.18\\times10^{-3} & 0.00 \\\\0.00 & 0.00 & 8.64\\times10^{-1} \\end{pmatrix}$\n",
       "- $Y_d = \\begin{pmatrix}1.32\\times10^{-5} & 6.21\\times10^{-5} & 1.53\\times10^{-5} - 4.95\\times10^{-5}\\,i \\\\-3.04\\times10^{-6} - 2.00\\times10^{-9}\\,i & 2.69\\times10^{-4} - 9.41\\times10^{-9}\\,i & 6.04\\times10^{-4} \\\\1.16\\times10^{-7} - 4.65\\times10^{-8}\\,i & -1.17\\times10^{-5} - 2.19\\times10^{-7}\\,i & 1.40\\times10^{-2} \\end{pmatrix}$\n",
       "- $Y_e = \\begin{pmatrix}2.98\\times10^{-6} & 0.00 & 0.00 \\\\0.00 & 6.17\\times10^{-4} & 0.00 \\\\0.00 & 0.00 & 1.04\\times10^{-2} \\end{pmatrix}$\n",
       "</details>\n"
      ],
      "text/plain": [
       "<alpaca.rge.classes.ALPcouplings at 0x127ebda50>"
      ]
     },
     "execution_count": 16,
     "metadata": {},
     "output_type": "execute_result"
    }
   ],
   "source": [
    "couplings_grid[13,15]"
   ]
  },
  {
   "cell_type": "markdown",
   "id": "156c09b5",
   "metadata": {},
   "source": [
    "Saving and loading individual `ALPcouplings` objects"
   ]
  },
  {
   "cell_type": "code",
   "execution_count": 13,
   "id": "4d4c04c3",
   "metadata": {},
   "outputs": [],
   "source": [
    "couplings_grid[13,15].save('03_results/ALP_coupling.json')\n",
    "coupling_fromfile = alpaca.ALPcouplings.load('03_results/ALP_coupling.json')"
   ]
  },
  {
   "cell_type": "code",
   "execution_count": 14,
   "id": "41232eae",
   "metadata": {},
   "outputs": [
    {
     "data": {
      "text/markdown": [
       "### ALP couplings\n",
       "- Scale: $10^{3}$ GeV\n",
       "- Basis: ```massbasis_ew```\n",
       "- EW scale: $10^{2}$ GeV\n",
       "<details><summary>Couplings:</summary>\n",
       "\n",
       "- $c'_{u_L} = \\begin{pmatrix}0.00 & 0.00 & 0.00 \\\\0.00 & 0.00 & 0.00 \\\\0.00 & 0.00 & 0.00 \\end{pmatrix}$\n",
       "- $c'_{u_R} = \\begin{pmatrix}0.00 & 0.00 & 0.00 \\\\0.00 & 0.00 & 0.00 \\\\0.00 & 0.00 & 0.00 \\end{pmatrix}$\n",
       "- $c'_{d_L} = \\begin{pmatrix}0.00 & 0.00 & 0.00 \\\\0.00 & 0.00 & 0.00 \\\\0.00 & 0.00 & 0.00 \\end{pmatrix}$\n",
       "- $c'_{d_R} = \\begin{pmatrix}0.00 & 0.00 & 0.00 \\\\0.00 & 0.00 & 0.00 \\\\0.00 & 0.00 & 0.00 \\end{pmatrix}$\n",
       "- $c'_{e_L} = \\begin{pmatrix}0.00 & 0.00 & 0.00 \\\\0.00 & 0.00 & 0.00 \\\\0.00 & 0.00 & 0.00 \\end{pmatrix}$\n",
       "- $c'_{\\nu_L} = \\begin{pmatrix}0.00 & 0.00 & 0.00 \\\\0.00 & 0.00 & 0.00 \\\\0.00 & 0.00 & 0.00 \\end{pmatrix}$\n",
       "- $c'_{e_R} = \\begin{pmatrix}0.00 & 0.00 & 0.00 \\\\0.00 & 0.00 & 0.00 \\\\0.00 & 0.00 & 0.00 \\end{pmatrix}$\n",
       "- $c_\\gamma = 1.63\\times10^{-7}$\n",
       "- $c_{\\gamma Z} = 0.00$\n",
       "- $c_W = 1.12\\times10^{-7}$\n",
       "- $c_Z = 0.00$\n",
       "- $c_G = 0.00$\n",
       "</details>\n",
       "<details><summary>Yukawa matrices:</summary>\n",
       "\n",
       "- $Y_u = \\begin{pmatrix}6.37\\times10^{-6} & 0.00 & 0.00 \\\\0.00 & 3.18\\times10^{-3} & 0.00 \\\\0.00 & 0.00 & 8.64\\times10^{-1} \\end{pmatrix}$\n",
       "- $Y_d = \\begin{pmatrix}1.32\\times10^{-5} & 6.21\\times10^{-5} & 1.53\\times10^{-5} - 4.95\\times10^{-5}\\,i \\\\-3.04\\times10^{-6} - 2.00\\times10^{-9}\\,i & 2.69\\times10^{-4} - 9.41\\times10^{-9}\\,i & 6.04\\times10^{-4} \\\\1.16\\times10^{-7} - 4.65\\times10^{-8}\\,i & -1.17\\times10^{-5} - 2.19\\times10^{-7}\\,i & 1.40\\times10^{-2} \\end{pmatrix}$\n",
       "- $Y_e = \\begin{pmatrix}2.98\\times10^{-6} & 0.00 & 0.00 \\\\0.00 & 6.17\\times10^{-4} & 0.00 \\\\0.00 & 0.00 & 1.04\\times10^{-2} \\end{pmatrix}$\n",
       "</details>\n"
      ],
      "text/plain": [
       "<alpaca.rge.classes.ALPcouplings at 0x1244edf50>"
      ]
     },
     "execution_count": 14,
     "metadata": {},
     "output_type": "execute_result"
    }
   ],
   "source": [
    "coupling_fromfile"
   ]
  },
  {
   "cell_type": "code",
   "execution_count": 17,
   "id": "aa2dd4ad",
   "metadata": {},
   "outputs": [],
   "source": [
    "with open('03_results/ALP_coupling.json', 'wt') as f:\n",
    "    couplings_grid[13,15].save(f)"
   ]
  },
  {
   "cell_type": "markdown",
   "id": "e14dbd14",
   "metadata": {},
   "source": [
    "And saving and loading collections of `ALPcouplings`"
   ]
  },
  {
   "cell_type": "code",
   "execution_count": 18,
   "id": "27698a89",
   "metadata": {},
   "outputs": [],
   "source": [
    "from alpaca import ALPcouplingsEncoder, ALPcouplingsDecoder\n",
    "import json\n",
    "\n",
    "with open('03_results/ALP_grid.json', 'wt') as f:\n",
    "    # Numpy arrays can not be stored directly as JSON\n",
    "    # We have to convert it to list before\n",
    "    json.dump(couplings_grid.tolist(), f, cls=ALPcouplingsEncoder)\n",
    "\n",
    "with open('03_results/ALP_grid.json', 'rt') as f:\n",
    "    couplings_grid2 = json.load(f, cls=ALPcouplingsDecoder)"
   ]
  },
  {
   "cell_type": "code",
   "execution_count": 20,
   "id": "87edcd4b",
   "metadata": {},
   "outputs": [
    {
     "data": {
      "text/markdown": [
       "### ALP couplings\n",
       "- Scale: $10^{3}$ GeV\n",
       "- Basis: ```massbasis_ew```\n",
       "- EW scale: $10^{2}$ GeV\n",
       "<details><summary>Couplings:</summary>\n",
       "\n",
       "- $c'_{u_L} = \\begin{pmatrix}0.00 & 0.00 & 0.00 \\\\0.00 & 0.00 & 0.00 \\\\0.00 & 0.00 & 0.00 \\end{pmatrix}$\n",
       "- $c'_{u_R} = \\begin{pmatrix}0.00 & 0.00 & 0.00 \\\\0.00 & 0.00 & 0.00 \\\\0.00 & 0.00 & 0.00 \\end{pmatrix}$\n",
       "- $c'_{d_L} = \\begin{pmatrix}0.00 & 0.00 & 0.00 \\\\0.00 & 0.00 & 0.00 \\\\0.00 & 0.00 & 0.00 \\end{pmatrix}$\n",
       "- $c'_{d_R} = \\begin{pmatrix}0.00 & 0.00 & 0.00 \\\\0.00 & 0.00 & 0.00 \\\\0.00 & 0.00 & 0.00 \\end{pmatrix}$\n",
       "- $c'_{e_L} = \\begin{pmatrix}0.00 & 0.00 & 0.00 \\\\0.00 & 0.00 & 0.00 \\\\0.00 & 0.00 & 0.00 \\end{pmatrix}$\n",
       "- $c'_{\\nu_L} = \\begin{pmatrix}0.00 & 0.00 & 0.00 \\\\0.00 & 0.00 & 0.00 \\\\0.00 & 0.00 & 0.00 \\end{pmatrix}$\n",
       "- $c'_{e_R} = \\begin{pmatrix}0.00 & 0.00 & 0.00 \\\\0.00 & 0.00 & 0.00 \\\\0.00 & 0.00 & 0.00 \\end{pmatrix}$\n",
       "- $c_\\gamma = 1.63\\times10^{-7}$\n",
       "- $c_{\\gamma Z} = 0.00$\n",
       "- $c_W = 1.12\\times10^{-7}$\n",
       "- $c_Z = 0.00$\n",
       "- $c_G = 0.00$\n",
       "</details>\n",
       "<details><summary>Yukawa matrices:</summary>\n",
       "\n",
       "- $Y_u = \\begin{pmatrix}6.37\\times10^{-6} & 0.00 & 0.00 \\\\0.00 & 3.18\\times10^{-3} & 0.00 \\\\0.00 & 0.00 & 8.64\\times10^{-1} \\end{pmatrix}$\n",
       "- $Y_d = \\begin{pmatrix}1.32\\times10^{-5} & 6.21\\times10^{-5} & 1.53\\times10^{-5} - 4.95\\times10^{-5}\\,i \\\\-3.04\\times10^{-6} - 2.00\\times10^{-9}\\,i & 2.69\\times10^{-4} - 9.41\\times10^{-9}\\,i & 6.04\\times10^{-4} \\\\1.16\\times10^{-7} - 4.65\\times10^{-8}\\,i & -1.17\\times10^{-5} - 2.19\\times10^{-7}\\,i & 1.40\\times10^{-2} \\end{pmatrix}$\n",
       "- $Y_e = \\begin{pmatrix}2.98\\times10^{-6} & 0.00 & 0.00 \\\\0.00 & 6.17\\times10^{-4} & 0.00 \\\\0.00 & 0.00 & 1.04\\times10^{-2} \\end{pmatrix}$\n",
       "</details>\n"
      ],
      "text/plain": [
       "<alpaca.rge.classes.ALPcouplings at 0x11e778bd0>"
      ]
     },
     "execution_count": 20,
     "metadata": {},
     "output_type": "execute_result"
    }
   ],
   "source": [
    "np.array(couplings_grid2).reshape(100,100)[13,15]"
   ]
  }
 ],
 "metadata": {
  "kernelspec": {
   "display_name": ".venv",
   "language": "python",
   "name": "python3"
  },
  "language_info": {
   "codemirror_mode": {
    "name": "ipython",
    "version": 3
   },
   "file_extension": ".py",
   "mimetype": "text/x-python",
   "name": "python",
   "nbconvert_exporter": "python",
   "pygments_lexer": "ipython3",
   "version": "3.13.5"
  }
 },
 "nbformat": 4,
 "nbformat_minor": 5
}
